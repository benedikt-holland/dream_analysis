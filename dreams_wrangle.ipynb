{
 "cells": [
  {
   "cell_type": "code",
   "execution_count": null,
   "metadata": {},
   "outputs": [],
   "source": [
    "# This notebooks output is redacted due to containing personal data\n",
    "import pandas as pd\n",
    "import re\n",
    "import numpy as np"
   ]
  },
  {
   "cell_type": "code",
   "execution_count": null,
   "metadata": {},
   "outputs": [],
   "source": [
    "date_pattern = re.compile(\".*[0-9]+[.][0-9]+[.][0-9]+.*\")\n",
    "with open(\"dreams.txt\", encoding='utf-8') as file:\n",
    "    lines = []\n",
    "    content = file.read()\n",
    "    content = re.split('([\\s,;()]+)', content)\n",
    "    date = None\n",
    "    line = \"\"\n",
    "    for word in content:\n",
    "        if date_pattern.match(word) and date is not None:\n",
    "            lines.append({\"date\": date, \"content\": line})\n",
    "            date = word\n",
    "            line = \"\"\n",
    "        elif date_pattern.match(word):\n",
    "            date = word\n",
    "        else:\n",
    "            line += word\n",
    "    dreams = pd.DataFrame(lines)\n",
    "dreams.head()\n",
    "# DataFrame with columns 'date' and 'content'"
   ]
  },
  {
   "cell_type": "code",
   "execution_count": null,
   "metadata": {},
   "outputs": [],
   "source": [
    "dreams[\"date\"].unique()"
   ]
  },
  {
   "cell_type": "code",
   "execution_count": null,
   "metadata": {},
   "outputs": [],
   "source": [
    "dreams[dreams[\"date\"].str.contains(\"-\")]"
   ]
  },
  {
   "cell_type": "code",
   "execution_count": null,
   "metadata": {},
   "outputs": [],
   "source": [
    "# Convert date column to datetime\n",
    "dreams[\"date\"] = pd.to_datetime(dreams[\"date\"], dayfirst=True)\n",
    "dreams[\"date\"]"
   ]
  },
  {
   "cell_type": "code",
   "execution_count": null,
   "metadata": {},
   "outputs": [],
   "source": [
    "# Extracting time of day and status from first line\n",
    "number_idx = dreams[\"content\"].apply(lambda x: bool(re.match(r'.*[0-9].*', x)))\n",
    "times = dreams[number_idx].content.str.split(\"\\n\", expand=True)[0].str.split(\"-\", expand=True)\n",
    "times"
   ]
  },
  {
   "cell_type": "code",
   "execution_count": null,
   "metadata": {},
   "outputs": [],
   "source": [
    "times[times[2].notna()]"
   ]
  },
  {
   "cell_type": "code",
   "execution_count": null,
   "metadata": {},
   "outputs": [],
   "source": [
    "dreams.loc[times[times[2].notna()].index, \"status\"] = times[times[2].notna()][2]\n",
    "times.drop(2, axis=1, inplace=True)\n",
    "times"
   ]
  },
  {
   "cell_type": "code",
   "execution_count": null,
   "metadata": {},
   "outputs": [],
   "source": [
    "times[0].unique()"
   ]
  },
  {
   "cell_type": "code",
   "execution_count": null,
   "metadata": {},
   "outputs": [],
   "source": [
    "# Replacing additional keywords\n",
    "times[0] = times[0].str.replace(\"?\", \"\")\n",
    "times[0].unique()"
   ]
  },
  {
   "cell_type": "code",
   "execution_count": null,
   "metadata": {},
   "outputs": [],
   "source": [
    "times[0] = times[0].str.replace(\"Uhr\", \"\")\n",
    "times[0].unique()"
   ]
  },
  {
   "cell_type": "code",
   "execution_count": null,
   "metadata": {},
   "outputs": [],
   "source": [
    "times[0] = times[0].str.replace(\" \", \"\")\n",
    "times[0].unique()"
   ]
  },
  {
   "cell_type": "code",
   "execution_count": null,
   "metadata": {},
   "outputs": [],
   "source": [
    "dreams[\"start_time\"] = times[0]\n",
    "dreams[dreams[\"start_time\"].notna()][\"start_time\"]"
   ]
  },
  {
   "cell_type": "code",
   "execution_count": null,
   "metadata": {},
   "outputs": [],
   "source": [
    "times2 = times[1].apply(lambda x: x.lstrip()).str.split(\" \", expand=True)\n",
    "times2"
   ]
  },
  {
   "cell_type": "code",
   "execution_count": null,
   "metadata": {},
   "outputs": [],
   "source": [
    "times2[0].unique()"
   ]
  },
  {
   "cell_type": "code",
   "execution_count": null,
   "metadata": {},
   "outputs": [],
   "source": [
    "temp = times2[times2[0].apply(lambda x: bool(re.match(r\".*[^0-9:]\", x)))][0]\n",
    "dreams.loc[temp.index, \"status\"] = temp.values[0][-1]"
   ]
  },
  {
   "cell_type": "code",
   "execution_count": null,
   "metadata": {},
   "outputs": [],
   "source": [
    "times2.loc[temp.index, 0] = times2.loc[temp.index, 0][:-1]"
   ]
  },
  {
   "cell_type": "code",
   "execution_count": null,
   "metadata": {},
   "outputs": [],
   "source": [
    "dreams[\"end_time\"] = times2[0]\n",
    "dreams[dreams[\"end_time\"].notna()][\"end_time\"]"
   ]
  },
  {
   "cell_type": "code",
   "execution_count": null,
   "metadata": {},
   "outputs": [],
   "source": [
    "# Additional entries corrospond to dream status\n",
    "times2[1].unique()"
   ]
  },
  {
   "cell_type": "code",
   "execution_count": null,
   "metadata": {},
   "outputs": [],
   "source": [
    "times2.loc[times2[1] == \"Uhr\", 1] = None\n",
    "times2[1].unique()"
   ]
  },
  {
   "cell_type": "code",
   "execution_count": null,
   "metadata": {},
   "outputs": [],
   "source": [
    "# SE = 'weal memory', KE = 'no memory'\n",
    "dreams.loc[times2[times2[1] == \"SE\"].index, \"dream\"] = \"SE\"\n",
    "dreams.loc[times2[times2[1] == \"KE\"].index, \"dream\"] = \"KE\"\n",
    "times2.loc[times2[1] == \"SE\", 1] = None\n",
    "times2.loc[times2[1] == \"KE\", 1] = None\n",
    "times2[1].unique()"
   ]
  },
  {
   "cell_type": "code",
   "execution_count": null,
   "metadata": {},
   "outputs": [],
   "source": [
    "dreams.loc[times2[times2[1].notna()].index, \"status\"] = times2[times2[1].notna()][1]\n",
    "dreams[dreams[\"status\"].notna()]"
   ]
  },
  {
   "cell_type": "code",
   "execution_count": null,
   "metadata": {},
   "outputs": [],
   "source": [
    "times2[2].unique()"
   ]
  },
  {
   "cell_type": "code",
   "execution_count": null,
   "metadata": {},
   "outputs": [],
   "source": [
    "dreams.loc[times2[times2[2] == \"KE\"].index, \"dream\"] = \"KE\"\n",
    "times2.loc[times2[2] == \"KE\", 2] = None\n",
    "times2[2].unique()"
   ]
  },
  {
   "cell_type": "code",
   "execution_count": null,
   "metadata": {},
   "outputs": [],
   "source": [
    "dreams.loc[times2[times2[2].notna()].index, \"status\"] = times2[times2[2].notna()][2]\n",
    "dreams[dreams[\"status\"].notna()]"
   ]
  },
  {
   "cell_type": "code",
   "execution_count": null,
   "metadata": {},
   "outputs": [],
   "source": [
    "# Two entries with two statuses\n",
    "# Ignoring this anomaly\n",
    "times2[times2[3].notna()]"
   ]
  },
  {
   "cell_type": "code",
   "execution_count": null,
   "metadata": {},
   "outputs": [],
   "source": [
    "dreams.loc[times2[times2[3] == \"KE\"].index, \"dream\"] = \"KE\"\n",
    "times2.loc[times2[3] == \"KE\", 3] = None\n",
    "times2[3].unique()"
   ]
  },
  {
   "cell_type": "code",
   "execution_count": null,
   "metadata": {},
   "outputs": [],
   "source": [
    "dreams.loc[number_idx, \"content\"] = dreams[number_idx].content.str.split(\"\\n\").apply(lambda x: \"\\n\".join(x[1:]))"
   ]
  },
  {
   "cell_type": "code",
   "execution_count": null,
   "metadata": {},
   "outputs": [],
   "source": [
    "number_idx = dreams[\"content\"].apply(lambda x: bool(re.match(r'.*[0-9].*', x)))\n",
    "dreams[number_idx]"
   ]
  },
  {
   "cell_type": "code",
   "execution_count": null,
   "metadata": {},
   "outputs": [],
   "source": [
    "# Checking if all the content still containing numbers is valid and no time of day information was missed\n",
    "dreams[number_idx][\"content\"].iloc[17]"
   ]
  },
  {
   "cell_type": "code",
   "execution_count": null,
   "metadata": {},
   "outputs": [],
   "source": [
    "dreams[dreams[\"dream\"].notna()]"
   ]
  },
  {
   "cell_type": "code",
   "execution_count": null,
   "metadata": {},
   "outputs": [],
   "source": [
    "dreams.iloc[80]"
   ]
  },
  {
   "cell_type": "code",
   "execution_count": null,
   "metadata": {},
   "outputs": [],
   "source": [
    "index = dreams[dreams[\"dream\"].notna()].index[1:]\n",
    "dreams.loc[index]"
   ]
  },
  {
   "cell_type": "code",
   "execution_count": null,
   "metadata": {},
   "outputs": [],
   "source": [
    "# Removing extracted status, start_time and end_time information from content column\n",
    "dreams.loc[index, \"content\"] = dreams.loc[index, \"dream\"]\n",
    "dreams.drop(\"dream\", axis=1, inplace=True)\n",
    "dreams.loc[index]"
   ]
  },
  {
   "cell_type": "code",
   "execution_count": null,
   "metadata": {},
   "outputs": [],
   "source": [
    "len_index = dreams.content.str.len().sort_values(ascending=False).index\n",
    "dreams.reindex(len_index)"
   ]
  },
  {
   "cell_type": "code",
   "execution_count": null,
   "metadata": {},
   "outputs": [],
   "source": [
    "# Splitting on keyword 'status'\n",
    "status = dreams.content.str.split(\"Zustand:\",expand=True)\n",
    "status"
   ]
  },
  {
   "cell_type": "code",
   "execution_count": null,
   "metadata": {},
   "outputs": [],
   "source": [
    "dreams[\"content\"] = status[0]"
   ]
  },
  {
   "cell_type": "code",
   "execution_count": null,
   "metadata": {},
   "outputs": [],
   "source": [
    "dreams.loc[status[1].notna(), \"status\"] = status[1]"
   ]
  },
  {
   "cell_type": "code",
   "execution_count": null,
   "metadata": {},
   "outputs": [],
   "source": [
    "# Splitting on keyword 'notes'\n",
    "notes = dreams.content.str.split(\"Notizen:\", expand=True)\n",
    "notes"
   ]
  },
  {
   "cell_type": "code",
   "execution_count": null,
   "metadata": {},
   "outputs": [],
   "source": [
    "dreams[\"content\"] = notes[0]"
   ]
  },
  {
   "cell_type": "code",
   "execution_count": null,
   "metadata": {},
   "outputs": [],
   "source": [
    "dreams.loc[notes[1].notna(), \"notes\"] = notes[1]"
   ]
  },
  {
   "cell_type": "code",
   "execution_count": null,
   "metadata": {},
   "outputs": [],
   "source": [
    "dreams[dreams[\"notes\"].notna()]"
   ]
  },
  {
   "cell_type": "code",
   "execution_count": null,
   "metadata": {},
   "outputs": [],
   "source": [
    "notes2 = dreams.status.str.split(\"Notizen:\", expand=True)\n",
    "notes2"
   ]
  },
  {
   "cell_type": "code",
   "execution_count": null,
   "metadata": {},
   "outputs": [],
   "source": [
    "dreams[\"status\"] = notes2[0]"
   ]
  },
  {
   "cell_type": "code",
   "execution_count": null,
   "metadata": {},
   "outputs": [],
   "source": [
    "dreams.loc[notes2[1].notna(), \"notes\"] = notes2[1]"
   ]
  },
  {
   "cell_type": "code",
   "execution_count": null,
   "metadata": {},
   "outputs": [],
   "source": [
    "notes3 = dreams.content.str.split(\"Notiz:\", expand=True)\n",
    "notes3"
   ]
  },
  {
   "cell_type": "code",
   "execution_count": null,
   "metadata": {},
   "outputs": [],
   "source": [
    "dreams[\"content\"] = notes3[0]"
   ]
  },
  {
   "cell_type": "code",
   "execution_count": null,
   "metadata": {},
   "outputs": [],
   "source": [
    "dreams.loc[notes3[1].notna(), \"notes\"] = notes3[1]"
   ]
  },
  {
   "cell_type": "code",
   "execution_count": null,
   "metadata": {},
   "outputs": [],
   "source": [
    "dreams[\"status\"].unique()"
   ]
  },
  {
   "cell_type": "code",
   "execution_count": null,
   "metadata": {},
   "outputs": [],
   "source": [
    "dreams[\"notes\"].unique()"
   ]
  },
  {
   "cell_type": "code",
   "execution_count": null,
   "metadata": {},
   "outputs": [],
   "source": [
    "dreams[dreams.content.str.contains(\":\")]"
   ]
  },
  {
   "cell_type": "code",
   "execution_count": null,
   "metadata": {},
   "outputs": [],
   "source": [
    "# New data format\n",
    "daily = pd.read_csv(\"daily.csv\", index_col=0)\n",
    "daily.head()"
   ]
  },
  {
   "cell_type": "code",
   "execution_count": null,
   "metadata": {},
   "outputs": [],
   "source": [
    "daily = daily[[\"Traumtagebuch\", \"Notes\"]]\n",
    "daily.index.name = \"date\"\n",
    "daily = daily.reset_index().rename({\"Traumtagebuch\": \"content\", \"Notes\": \"notes\"}, axis=1)\n",
    "daily.head()"
   ]
  },
  {
   "cell_type": "code",
   "execution_count": null,
   "metadata": {},
   "outputs": [],
   "source": [
    "daily.date = pd.to_datetime(daily.date)\n",
    "daily.head()"
   ]
  },
  {
   "cell_type": "code",
   "execution_count": null,
   "metadata": {},
   "outputs": [],
   "source": [
    "dreams = pd.concat([dreams, daily]).sort_values(\"date\").reset_index(drop=True)"
   ]
  },
  {
   "cell_type": "code",
   "execution_count": null,
   "metadata": {},
   "outputs": [],
   "source": [
    "# Remove newlines\n",
    "for col in [\"content\", \"status\", \"notes\"]:\n",
    "    dreams[col] = dreams[col].str.replace(\"\\n\", \"\")\n",
    "dreams.head()"
   ]
  },
  {
   "cell_type": "code",
   "execution_count": null,
   "metadata": {},
   "outputs": [],
   "source": [
    "# Replacing empty lines with nan\n",
    "dreams = dreams.replace(r'^\\s*$', np.nan, regex=True)"
   ]
  },
  {
   "cell_type": "code",
   "execution_count": null,
   "metadata": {},
   "outputs": [],
   "source": [
    "# Splitting multiple dreams in one night by using the keyphrase '...'\n",
    "dream_split = dreams.content.str.split(r'[.][.][.]',expand=True)\n",
    "dream_split"
   ]
  },
  {
   "cell_type": "code",
   "execution_count": null,
   "metadata": {},
   "outputs": [],
   "source": [
    "dream_split[dream_split[6].notna()][6]"
   ]
  },
  {
   "cell_type": "code",
   "execution_count": null,
   "metadata": {},
   "outputs": [],
   "source": [
    "dream_split.drop(6, axis=1, inplace=True)"
   ]
  },
  {
   "cell_type": "code",
   "execution_count": null,
   "metadata": {},
   "outputs": [],
   "source": [
    "dream_split[dream_split[5].notna()][5]"
   ]
  },
  {
   "cell_type": "code",
   "execution_count": null,
   "metadata": {},
   "outputs": [],
   "source": [
    "dream_split.iloc[398]"
   ]
  },
  {
   "cell_type": "code",
   "execution_count": null,
   "metadata": {},
   "outputs": [],
   "source": [
    "dreams.content = dreams.content.str.split(r'[.][.][.]')"
   ]
  },
  {
   "cell_type": "code",
   "execution_count": null,
   "metadata": {},
   "outputs": [],
   "source": [
    "# Every dream gets its own entry\n",
    "dreams = dreams.explode(\"content\")"
   ]
  },
  {
   "cell_type": "code",
   "execution_count": null,
   "metadata": {},
   "outputs": [],
   "source": [
    "dreams"
   ]
  },
  {
   "cell_type": "code",
   "execution_count": null,
   "metadata": {},
   "outputs": [],
   "source": [
    "dreams[dreams.content.isna()]"
   ]
  },
  {
   "cell_type": "code",
   "execution_count": null,
   "metadata": {},
   "outputs": [],
   "source": [
    "# Replace nan entries with 'no memory'\n",
    "dreams.loc[dreams.content.isna(), \"content\"] = \"KE\""
   ]
  },
  {
   "cell_type": "code",
   "execution_count": null,
   "metadata": {},
   "outputs": [],
   "source": [
    "dreams.content = dreams.content.apply(lambda x: x.lstrip())"
   ]
  },
  {
   "cell_type": "code",
   "execution_count": null,
   "metadata": {},
   "outputs": [],
   "source": [
    "dreams.groupby(\"content\").count()[\"date\"].sort_values(ascending=False).head(20)"
   ]
  },
  {
   "cell_type": "code",
   "execution_count": null,
   "metadata": {},
   "outputs": [],
   "source": [
    "timestamp = dreams[dreams[\"content\"] == \"\"][\"date\"].iloc[0]\n",
    "dreams[dreams[\"date\"] == timestamp]"
   ]
  },
  {
   "cell_type": "code",
   "execution_count": null,
   "metadata": {},
   "outputs": [],
   "source": [
    "dreams = dreams[dreams[\"content\"] != \"\"]"
   ]
  },
  {
   "cell_type": "code",
   "execution_count": null,
   "metadata": {},
   "outputs": [],
   "source": [
    "dreams.groupby(\"content\").count()[\"date\"].sort_values(ascending=False).head(10)"
   ]
  },
  {
   "cell_type": "code",
   "execution_count": null,
   "metadata": {},
   "outputs": [],
   "source": [
    "dreams.sample(20)"
   ]
  },
  {
   "cell_type": "code",
   "execution_count": null,
   "metadata": {},
   "outputs": [],
   "source": [
    "dreams.groupby(\"content\").count()[\"date\"].sort_values(ascending=False).head(10)"
   ]
  },
  {
   "cell_type": "code",
   "execution_count": null,
   "metadata": {},
   "outputs": [],
   "source": [
    "dreams[dreams[\"content\"] == \"- \"]"
   ]
  },
  {
   "cell_type": "code",
   "execution_count": null,
   "metadata": {},
   "outputs": [],
   "source": [
    "dreams.loc[98:100]"
   ]
  },
  {
   "cell_type": "code",
   "execution_count": null,
   "metadata": {},
   "outputs": [],
   "source": [
    "index = dreams[dreams[\"content\"] == \"- \"].index +1\n",
    "dreams.loc[index]"
   ]
  },
  {
   "cell_type": "code",
   "execution_count": null,
   "metadata": {},
   "outputs": [],
   "source": [
    "dreams.groupby(\"content\").count()[\"date\"].sort_values(ascending=False).head(10)"
   ]
  },
  {
   "cell_type": "code",
   "execution_count": null,
   "metadata": {},
   "outputs": [],
   "source": [
    "# Replacing several no memory keywors with 'no memory'\n",
    "no_memory = [\"KE\", \"Keine Erinnerung\", \"keine Erinnerung\", \"- \", \"N/A\"]\n",
    "dreams.loc[dreams[\"content\"].isin(no_memory), \"content\"] = \"no memory\""
   ]
  },
  {
   "cell_type": "code",
   "execution_count": null,
   "metadata": {},
   "outputs": [],
   "source": [
    "dreams.groupby(\"content\").count()[\"date\"].sort_values(ascending=False).head(10)"
   ]
  },
  {
   "cell_type": "code",
   "execution_count": null,
   "metadata": {},
   "outputs": [],
   "source": [
    "# Replacing several weak memory keywords with 'weak memory'\n",
    "weak_memory = [\"SE\", \"Schwache Erinnerung\"]\n",
    "dreams.loc[dreams[\"content\"].isin(weak_memory), \"content\"] = \"weak memory\""
   ]
  },
  {
   "cell_type": "code",
   "execution_count": null,
   "metadata": {},
   "outputs": [],
   "source": [
    "dreams.groupby(\"content\").count()[\"date\"].sort_values(ascending=False).head(10)"
   ]
  },
  {
   "cell_type": "code",
   "execution_count": null,
   "metadata": {},
   "outputs": [],
   "source": [
    "dreams = dreams.reset_index(drop=True)"
   ]
  },
  {
   "cell_type": "code",
   "execution_count": null,
   "metadata": {},
   "outputs": [],
   "source": [
    "# Marking wet dreams\n",
    "wet_index = dreams.content.str.contains(\"feucht\", case=False)\n",
    "dreams[wet_index].content"
   ]
  },
  {
   "cell_type": "code",
   "execution_count": null,
   "metadata": {},
   "outputs": [],
   "source": [
    "wet_dream = [\"Feuchttraum\", \"(Feuchttraum)\", \"Schwache Erinnerung (feucht)\", \"(Feuchttraum) \"]\n",
    "dreams.loc[dreams[\"content\"].isin(wet_dream), \"content\"] = \"wet dream\""
   ]
  },
  {
   "cell_type": "code",
   "execution_count": null,
   "metadata": {},
   "outputs": [],
   "source": [
    "index = dreams.content.str.contains(\"feucht\", case=False)\n",
    "dreams[index].content"
   ]
  },
  {
   "cell_type": "code",
   "execution_count": null,
   "metadata": {},
   "outputs": [],
   "source": [
    "dreams.loc[1178].content"
   ]
  },
  {
   "cell_type": "code",
   "execution_count": null,
   "metadata": {},
   "outputs": [],
   "source": [
    "wet_index[1178] = False"
   ]
  },
  {
   "cell_type": "code",
   "execution_count": null,
   "metadata": {},
   "outputs": [],
   "source": [
    "# TODO Mark wet dreams\n",
    "#dreams.loc[index, \"content\"] = \"weak memory\""
   ]
  },
  {
   "cell_type": "code",
   "execution_count": null,
   "metadata": {},
   "outputs": [],
   "source": [
    "dreams.groupby(\"content\").count()[\"date\"].sort_values(ascending=False).head(10)"
   ]
  },
  {
   "cell_type": "code",
   "execution_count": null,
   "metadata": {},
   "outputs": [],
   "source": [
    "dreams.sample(10)"
   ]
  },
  {
   "cell_type": "code",
   "execution_count": null,
   "metadata": {},
   "outputs": [],
   "source": [
    "# Data cleaning\n",
    "for index in [86,152,99,772]:\n",
    "    dreams.loc[index,\"content\"] = \"no memory\"\n",
    "dreams.loc[99,\"status\"] = \"k\"\n",
    "dreams.loc[598,\"content\"] = \"weak memory\"\n",
    "dreams.loc[84,\"note\"] = dreams.loc[84,\"content\"]"
   ]
  },
  {
   "cell_type": "code",
   "execution_count": null,
   "metadata": {},
   "outputs": [],
   "source": [
    "content_filter = content_filter = (dreams[\"content\"] != \"no memory\") & (dreams[\"content\"] != \"weak memory\")\n",
    "dreams[(content_filter)].sample(30)[\"content\"]"
   ]
  },
  {
   "cell_type": "code",
   "execution_count": null,
   "metadata": {},
   "outputs": [],
   "source": [
    "# Mapping keywords to categories\n",
    "# Redacted due to contained personal data\n",
    "from mappings import categories\n",
    "dreams[\"category\"] = [[] for _ in range(dreams.shape[0])]\n",
    "for category, keywords in categories.items():\n",
    "    index = dreams.content.str.contains('|'.join(keywords), case=False)\n",
    "    dreams.loc[index, \"category\"] = dreams[index][\"category\"].apply(lambda x: x + [category])"
   ]
  },
  {
   "cell_type": "code",
   "execution_count": null,
   "metadata": {},
   "outputs": [],
   "source": [
    "dreams[(dreams.category.str.len() == 0) & (content_filter)].sample(1)[[\"content\", \"category\"]].style.set_properties(subset = ['content'], **{'width': '800px'})"
   ]
  },
  {
   "cell_type": "code",
   "execution_count": null,
   "metadata": {},
   "outputs": [],
   "source": [
    "wet_index"
   ]
  },
  {
   "cell_type": "code",
   "execution_count": null,
   "metadata": {},
   "outputs": [],
   "source": [
    "# Cleaning\n",
    "dreams.loc[wet_index, \"category\"] = [\"wet\"] * wet_index.sum()\n",
    "dreams.at[413,\"category\"] = [\"gaming\"]\n",
    "dreams.at[787,\"category\"] = [\"gaming\"]\n",
    "dreams.at[224, \"category\"] = [\"gaming\"]\n",
    "dreams.at[72,\"category\"] = [\"driving\"]\n",
    "dreams.at[299,\"category\"] = [\"work\", \"biking\"]\n",
    "dreams.at[963,\"category\"] = [\"workout\"]\n",
    "dreams.at[364,\"category\"] = [\"media\"]\n",
    "dreams.at[546,\"category\"] = [\"nightmare\", \"gaming\", \"vacation\"]\n",
    "dreams.at[881,\"category\"] = [\"violence\"]"
   ]
  },
  {
   "cell_type": "code",
   "execution_count": null,
   "metadata": {},
   "outputs": [],
   "source": [
    "# Using spacy entity recognition to extract people and locations\n",
    "import spacy\n",
    "from collections import Counter\n",
    "try:\n",
    "    nlp = spacy.load('de_core_news_lg')\n",
    "except OSError:\n",
    "    from spacy.cli import download\n",
    "    download('de_core_news_lg')\n",
    "    nlp = spacy.load('de_core_news_lg')"
   ]
  },
  {
   "cell_type": "code",
   "execution_count": null,
   "metadata": {},
   "outputs": [],
   "source": [
    "doc = nlp(dreams[content_filter].sample(1)[\"content\"].iloc[0])\n",
    "print([(X.text, X.label_) for X in doc.ents])"
   ]
  },
  {
   "cell_type": "code",
   "execution_count": null,
   "metadata": {},
   "outputs": [],
   "source": [
    "def apply_ner(x):\n",
    "    doc = nlp(x)\n",
    "    return [(X.label_, X.text) for X in doc.ents]"
   ]
  },
  {
   "cell_type": "code",
   "execution_count": null,
   "metadata": {},
   "outputs": [],
   "source": [
    "dreams.loc[content_filter, \"entities\"] = dreams[content_filter].content.apply(apply_ner)\n",
    "dreams[\"entities\"]"
   ]
  },
  {
   "cell_type": "code",
   "execution_count": null,
   "metadata": {},
   "outputs": [],
   "source": [
    "dreams.loc[1490, \"entities\"] = \"\""
   ]
  },
  {
   "cell_type": "code",
   "execution_count": null,
   "metadata": {},
   "outputs": [],
   "source": [
    "dreams.loc[dreams.entities.isna(), \"entities\"] = \"\""
   ]
  },
  {
   "cell_type": "code",
   "execution_count": null,
   "metadata": {},
   "outputs": [],
   "source": [
    "dreams[\"people\"] =dreams[\"entities\"].apply(lambda x: [item[1] for item in x if item[0] == \"PER\"])\n",
    "dreams[\"people\"]"
   ]
  },
  {
   "cell_type": "code",
   "execution_count": null,
   "metadata": {},
   "outputs": [],
   "source": [
    "# TODO Map new individuals"
   ]
  },
  {
   "cell_type": "code",
   "execution_count": null,
   "metadata": {},
   "outputs": [],
   "source": [
    "dreams[\"people\"].explode().unique()[150:]"
   ]
  },
  {
   "cell_type": "code",
   "execution_count": null,
   "metadata": {},
   "outputs": [],
   "source": [
    "# Mappings for misclasified entities\n",
    "# Redacted due to containing personal data\n",
    "from mappings import change_cat, remove_name\n",
    "def map_category(x):\n",
    "    if x[1] in change_cat.keys():\n",
    "        return (change_cat[x[1]], x[1])\n",
    "    elif x[1] in remove_name:\n",
    "        return (\"MISC_PER\", x[1])\n",
    "    return x"
   ]
  },
  {
   "cell_type": "code",
   "execution_count": null,
   "metadata": {},
   "outputs": [],
   "source": [
    "dreams[\"entities\"] = dreams[\"entities\"].apply(lambda x: [map_category(item) for item in x])"
   ]
  },
  {
   "cell_type": "code",
   "execution_count": null,
   "metadata": {},
   "outputs": [],
   "source": [
    "dreams[\"people\"] =dreams[\"entities\"].apply(lambda x: [item[1] for item in x if item[0] == \"PER\"])"
   ]
  },
  {
   "cell_type": "code",
   "execution_count": null,
   "metadata": {},
   "outputs": [],
   "source": [
    "# Mapping name synonyms\n",
    "# Redacted due to containg personal data\n",
    "from mappings import name_map\n",
    "def map_people(x):\n",
    "    if x in name_map.keys():\n",
    "        return name_map[x]\n",
    "    return x"
   ]
  },
  {
   "cell_type": "code",
   "execution_count": null,
   "metadata": {},
   "outputs": [],
   "source": [
    "len(name_map)"
   ]
  },
  {
   "cell_type": "code",
   "execution_count": null,
   "metadata": {},
   "outputs": [],
   "source": [
    "dreams[\"people\"] = dreams[\"people\"].apply(lambda x: [map_people(item) for item in x])"
   ]
  },
  {
   "cell_type": "code",
   "execution_count": null,
   "metadata": {},
   "outputs": [],
   "source": [
    "dreams.explode(\"people\").groupby(\"people\").count()[\"content\"].sort_values(ascending=False).head(30)"
   ]
  },
  {
   "cell_type": "code",
   "execution_count": null,
   "metadata": {},
   "outputs": [],
   "source": [
    "dreams[dreams.people.notna()][\"people\"].explode().unique()"
   ]
  },
  {
   "cell_type": "code",
   "execution_count": null,
   "metadata": {},
   "outputs": [],
   "source": [
    "from mappings import female, male\n",
    "def map_gender(x):\n",
    "    if x in female:\n",
    "        return True\n",
    "    if x in male:\n",
    "        return False\n",
    "    return x[-1] in [\"a\", \"e\", \"u\"]"
   ]
  },
  {
   "cell_type": "code",
   "execution_count": null,
   "metadata": {},
   "outputs": [],
   "source": [
    "# Mark gender if name ends in a,e or u\n",
    "dreams[\"female\"] = dreams[\"people\"].apply(lambda x: [map_gender(item.split(\" \")[0]) for item in x])\n",
    "dreams[\"female\"].explode().sum(), dreams[\"female\"].explode().count() - dreams[\"female\"].explode().sum()"
   ]
  },
  {
   "cell_type": "code",
   "execution_count": null,
   "metadata": {},
   "outputs": [],
   "source": [
    "people = dreams[dreams.people.str.len() != 0].explode(\"people\")\n",
    "people.loc[:,\"female\"] = dreams[dreams.people.str.len() != 0].explode(\"female\")"
   ]
  },
  {
   "cell_type": "code",
   "execution_count": null,
   "metadata": {},
   "outputs": [],
   "source": [
    "index = 5\n",
    "people.groupby(\"people\")[\"female\"].agg(pd.Series.unique).iloc[index*28:(index+1)*28]"
   ]
  },
  {
   "cell_type": "code",
   "execution_count": null,
   "metadata": {},
   "outputs": [],
   "source": [
    "# Stopped here"
   ]
  },
  {
   "cell_type": "code",
   "execution_count": null,
   "metadata": {},
   "outputs": [],
   "source": [
    "dreams[\"locations\"] =dreams[\"entities\"].apply(lambda x: [item[1] for item in x if item[0] == \"LOC\"])\n",
    "dreams[\"locations\"]"
   ]
  },
  {
   "cell_type": "code",
   "execution_count": null,
   "metadata": {},
   "outputs": [],
   "source": [
    "dreams[\"locations\"].explode().unique()"
   ]
  },
  {
   "cell_type": "code",
   "execution_count": null,
   "metadata": {},
   "outputs": [],
   "source": [
    "dreams[\"entities\"].apply(lambda x: [item[0] for item in x]).explode().unique()"
   ]
  },
  {
   "cell_type": "code",
   "execution_count": null,
   "metadata": {},
   "outputs": [],
   "source": [
    "dreams[\"entities\"].apply(lambda x: [item[1] for item in x if item[0] == \"ORG\"]).explode().unique()"
   ]
  },
  {
   "cell_type": "code",
   "execution_count": null,
   "metadata": {},
   "outputs": [],
   "source": [
    "dreams[\"entities\"].apply(lambda x: [item[1] for item in x if item[0] == \"MISC\"]).explode().unique()"
   ]
  },
  {
   "cell_type": "code",
   "execution_count": null,
   "metadata": {},
   "outputs": [],
   "source": [
    "dreams"
   ]
  },
  {
   "cell_type": "code",
   "execution_count": null,
   "metadata": {},
   "outputs": [],
   "source": [
    "dreams.to_csv(\"dreams.csv\")"
   ]
  }
 ],
 "metadata": {
  "kernelspec": {
   "display_name": "venv (3.12.3)",
   "language": "python",
   "name": "python3"
  },
  "language_info": {
   "codemirror_mode": {
    "name": "ipython",
    "version": 3
   },
   "file_extension": ".py",
   "mimetype": "text/x-python",
   "name": "python",
   "nbconvert_exporter": "python",
   "pygments_lexer": "ipython3",
   "version": "3.12.3"
  }
 },
 "nbformat": 4,
 "nbformat_minor": 2
}
