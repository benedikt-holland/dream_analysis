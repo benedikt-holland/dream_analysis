{
 "cells": [
  {
   "cell_type": "code",
   "execution_count": null,
   "id": "978ed8ac",
   "metadata": {},
   "outputs": [],
   "source": [
    "import pandas as pd\n",
    "import glob  \n",
    "import numpy as np"
   ]
  },
  {
   "cell_type": "code",
   "execution_count": null,
   "id": "4e3c5924",
   "metadata": {},
   "outputs": [],
   "source": [
    "path = '/home/benni/Documents/obsidian/daily/*.md'   \n",
    "files=glob.glob(path)   \n",
    "data = {}\n",
    "for file_name in files: \n",
    "    date = pd.to_datetime(file_name.split(\"/\")[-1].split(\".\")[0])\n",
    "    if date >= pd.to_datetime(\"2024-10-02\"):\n",
    "        with open(file_name) as file:\n",
    "            data[date] = file.read()\n"
   ]
  },
  {
   "cell_type": "code",
   "execution_count": null,
   "id": "889f1e67",
   "metadata": {},
   "outputs": [],
   "source": [
    "len(data)"
   ]
  },
  {
   "cell_type": "code",
   "execution_count": null,
   "id": "5dd67590",
   "metadata": {},
   "outputs": [],
   "source": [
    "df = pd.DataFrame.from_dict(data, orient=\"index\")\n",
    "df"
   ]
  },
  {
   "cell_type": "code",
   "execution_count": null,
   "id": "a3f987fc",
   "metadata": {},
   "outputs": [],
   "source": [
    "def process(x):\n",
    "    entry = {}\n",
    "    lines = x.split(\"#\")\n",
    "    for line in lines:\n",
    "        if line != '':\n",
    "            line_array = line.split(\"\\n\")\n",
    "            column = line_array[0].replace(\"[\",\"\").replace(\"]\",\"\").strip()\n",
    "            if column in entry.keys():\n",
    "                column += \"2\"\n",
    "            entry[column] = \"\\n\".join(line_array[1:]).strip()\n",
    "    return entry"
   ]
  },
  {
   "cell_type": "code",
   "execution_count": null,
   "id": "716e1f6a",
   "metadata": {},
   "outputs": [],
   "source": [
    "df = pd.DataFrame(list(df[0].apply(process)), index=df.index)\n",
    "df"
   ]
  },
  {
   "cell_type": "code",
   "execution_count": null,
   "id": "529cc4b9",
   "metadata": {},
   "outputs": [],
   "source": [
    "df.columns"
   ]
  },
  {
   "cell_type": "code",
   "execution_count": null,
   "id": "0fd0e44e",
   "metadata": {},
   "outputs": [],
   "source": [
    "for columns in [(\"Dishes\", \"Protein\", \"Nutrition\"), (\"Sleep quality\", \"Schlafen\"), (\"Notes2\", \"Benni\")]:\n",
    "    base = columns[0]\n",
    "    columns = columns[1:]\n",
    "    for column in columns:\n",
    "        mask = df[column].notna()\n",
    "        df.loc[mask, base] = df.loc[mask, column]\n",
    "        df.drop(column, axis=1, inplace=True)"
   ]
  },
  {
   "cell_type": "code",
   "execution_count": null,
   "id": "142ab0de",
   "metadata": {},
   "outputs": [],
   "source": [
    "df"
   ]
  },
  {
   "cell_type": "code",
   "execution_count": null,
   "id": "680aca58",
   "metadata": {},
   "outputs": [],
   "source": [
    "df.replace(\"\", np.nan, inplace=True)"
   ]
  },
  {
   "cell_type": "code",
   "execution_count": null,
   "id": "2f67316b",
   "metadata": {},
   "outputs": [],
   "source": [
    "df.to_csv(\"daily.csv\")"
   ]
  }
 ],
 "metadata": {
  "kernelspec": {
   "display_name": "venv (3.12.3)",
   "language": "python",
   "name": "python3"
  },
  "language_info": {
   "codemirror_mode": {
    "name": "ipython",
    "version": 3
   },
   "file_extension": ".py",
   "mimetype": "text/x-python",
   "name": "python",
   "nbconvert_exporter": "python",
   "pygments_lexer": "ipython3",
   "version": "3.12.3"
  }
 },
 "nbformat": 4,
 "nbformat_minor": 5
}
