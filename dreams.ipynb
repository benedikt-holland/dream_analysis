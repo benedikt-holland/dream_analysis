{
 "cells": [
  {
   "cell_type": "code",
   "execution_count": null,
   "metadata": {},
   "outputs": [],
   "source": [
    "import pandas as pd\n",
    "import matplotlib.pyplot as plt\n",
    "import numpy as np"
   ]
  },
  {
   "cell_type": "code",
   "execution_count": null,
   "metadata": {},
   "outputs": [],
   "source": [
    "dreams = pd.read_csv(\"dreams.csv\", index_col=0)"
   ]
  },
  {
   "cell_type": "code",
   "execution_count": null,
   "metadata": {},
   "outputs": [],
   "source": [
    "dreams.date = pd.to_datetime(dreams.date)"
   ]
  },
  {
   "cell_type": "code",
   "execution_count": null,
   "metadata": {},
   "outputs": [],
   "source": [
    "dreams[\"month\"] = dreams.date.astype(\"datetime64[M]\")\n",
    "dreams[\"quarter\"] = dreams.date.dt.to_period(\"Q\")\n",
    "dreams[\"day\"] = dreams.date.dt.weekday\n",
    "dreams[\"characters\"] = dreams.content.str.len()"
   ]
  },
  {
   "cell_type": "code",
   "execution_count": null,
   "metadata": {},
   "outputs": [],
   "source": [
    "content_filter = (dreams[\"content\"] != \"no memory\") & (dreams[\"content\"] != \"weak memory\")"
   ]
  },
  {
   "cell_type": "code",
   "execution_count": null,
   "metadata": {},
   "outputs": [],
   "source": [
    "plt.plot(dreams.groupby(\"month\").count()[\"date\"])\n",
    "plt.plot(dreams[content_filter].groupby(\"month\").count()[\"date\"])"
   ]
  },
  {
   "cell_type": "code",
   "execution_count": null,
   "metadata": {},
   "outputs": [],
   "source": [
    "dreams1 = dreams[dreams.date < \"2021-04-01\"]\n",
    "dreams2 = dreams[dreams.date >= \"2021-04-01\"]"
   ]
  },
  {
   "cell_type": "code",
   "execution_count": null,
   "metadata": {},
   "outputs": [],
   "source": [
    "dreams.shape[0]"
   ]
  },
  {
   "cell_type": "code",
   "execution_count": null,
   "metadata": {},
   "outputs": [],
   "source": [
    "dreams = dreams[content_filter]"
   ]
  },
  {
   "cell_type": "code",
   "execution_count": null,
   "metadata": {},
   "outputs": [],
   "source": [
    "from ast import literal_eval\n",
    "dreams.people = dreams.people.apply(literal_eval)\n",
    "dreams.female = dreams.female.apply(literal_eval)\n",
    "dreams.category = dreams.category.apply(literal_eval)\n",
    "dreams.locations = dreams.locations.apply(literal_eval)\n",
    "dreams.entities = dreams.entities.apply(literal_eval)"
   ]
  },
  {
   "cell_type": "code",
   "execution_count": null,
   "metadata": {},
   "outputs": [],
   "source": [
    "gender = dreams.explode(\"female\").groupby(\"female\").count()[\"date\"]\n",
    "#gender[\"nan\"] = dreams.explode(\"female\")[\"female\"].isna().sum()\n",
    "gender = gender.rename({False: \"male\", True: \"female\"}, axis=1)\n",
    "gender"
   ]
  },
  {
   "cell_type": "code",
   "execution_count": null,
   "metadata": {},
   "outputs": [],
   "source": [
    "fig, ax = plt.subplots()\n",
    "ax.pie(gender, labels=gender.index, autopct='%1.1f%%')\n",
    "ax.set_title(\"Gender\");"
   ]
  },
  {
   "cell_type": "code",
   "execution_count": null,
   "metadata": {},
   "outputs": [],
   "source": [
    "\n",
    "categories = dreams.explode(\"category\").groupby(\"category\").count()[\"date\"].sort_values(ascending=False)\n",
    "categories = categories[categories.values > 11]\n",
    "fig, ax = plt.subplots()\n",
    "ax.pie(categories, labels=categories.index, autopct='%1.1f%%')\n",
    "ax.set_title(\"Categories\");"
   ]
  },
  {
   "cell_type": "code",
   "execution_count": null,
   "metadata": {},
   "outputs": [],
   "source": [
    "\n",
    "categories = dreams.explode(\"category\")\n",
    "categories = categories[(categories[\"category\"] != \"no memory\") & (categories[\"category\"] != \"weak memory\")].groupby(\"category\").count()[\"date\"].sort_values(ascending=False)\n",
    "categories = categories[categories.values > 11]\n",
    "fig, ax = plt.subplots()\n",
    "ax.pie(categories, labels=categories.index, autopct='%1.1f%%')\n",
    "ax.set_title(\"Categories\");"
   ]
  },
  {
   "cell_type": "code",
   "execution_count": null,
   "metadata": {},
   "outputs": [],
   "source": [
    "people = dreams.explode(\"people\").groupby(\"people\").count()[\"date\"]\n",
    "people"
   ]
  },
  {
   "cell_type": "code",
   "execution_count": null,
   "metadata": {},
   "outputs": [],
   "source": [
    "people.index.unique()"
   ]
  },
  {
   "cell_type": "code",
   "execution_count": null,
   "metadata": {},
   "outputs": [],
   "source": []
  },
  {
   "cell_type": "code",
   "execution_count": null,
   "metadata": {},
   "outputs": [],
   "source": [
    "parties = dreams[dreams.category.apply(lambda x: \"partying\" in x)].groupby(\"date\").count()[\"content\"]\n",
    "idx = pd.date_range(dreams.date.min(), dreams.date.max())\n",
    "parties = parties.reindex(idx, fill_value=0)\n",
    "parties.plot()"
   ]
  },
  {
   "cell_type": "code",
   "execution_count": null,
   "metadata": {},
   "outputs": [],
   "source": [
    "parties = dreams[dreams.category.apply(lambda x: \"partying\" in x)].groupby(\"month\").count()[\"content\"]\n",
    "parties.plot()"
   ]
  },
  {
   "cell_type": "code",
   "execution_count": null,
   "metadata": {},
   "outputs": [],
   "source": [
    "parties = dreams1[dreams1.category.apply(lambda x: \"sex\" in x)]\n",
    "parties = parties.groupby(\"quarter\").count()[\"content\"] / dreams1.groupby(\"quarter\").count()[\"content\"]\n",
    "parties.plot()"
   ]
  },
  {
   "cell_type": "code",
   "execution_count": null,
   "metadata": {},
   "outputs": [],
   "source": [
    "sex = dreams[dreams.category.apply(lambda x: \"partying\" in x)]\n",
    "sex.groupby(\"day\").count()[\"date\"]"
   ]
  },
  {
   "cell_type": "code",
   "execution_count": null,
   "metadata": {},
   "outputs": [],
   "source": [
    "dreams.groupby(\"day\").mean()[\"characters\"]"
   ]
  },
  {
   "cell_type": "code",
   "execution_count": null,
   "metadata": {},
   "outputs": [],
   "source": [
    "dreams"
   ]
  },
  {
   "cell_type": "code",
   "execution_count": null,
   "metadata": {},
   "outputs": [],
   "source": [
    "categories = dreams.explode(\"female\")\n",
    "categories = categories.explode(\"category\")\n",
    "categories.female = categories.female.astype(bool)\n",
    "undefined = dreams[dreams.female.apply(lambda x: len(x)) == 0].explode(\"category\")\n",
    "gender = categories[categories.female.notna()]\n",
    "female = gender[gender.female]\n",
    "male = gender[~gender.female]\n",
    "index = categories.groupby(\"category\").count()[\"date\"].sort_values(ascending=False).index\n",
    "female = female.groupby(\"category\").count()[\"date\"]\n",
    "female = female.reindex(index, fill_value=0)\n",
    "male = male.groupby(\"category\").count()[\"date\"]\n",
    "male = male.reindex(index, fill_value=0)\n",
    "male += female\n",
    "undefined = undefined.groupby(\"category\").count()[\"date\"]\n",
    "undefined = undefined.reindex(index, fill_value=0)\n",
    "undefined += male\n",
    "plt.bar(index, undefined);\n",
    "plt.bar(index, male);\n",
    "plt.bar(index, female);\n",
    "plt.xticks(rotation=90);"
   ]
  },
  {
   "cell_type": "code",
   "execution_count": null,
   "metadata": {},
   "outputs": [],
   "source": [
    "dreams.columns"
   ]
  },
  {
   "cell_type": "code",
   "execution_count": null,
   "metadata": {},
   "outputs": [],
   "source": [
    "dreams.explode(\"locations\").groupby(\"locations\").count()[\"date\"].sort_values(ascending=False).head(20)"
   ]
  },
  {
   "cell_type": "code",
   "execution_count": null,
   "metadata": {},
   "outputs": [],
   "source": [
    "dreams.explode(\"entities\").groupby(\"entities\").count()[\"date\"].sort_values(ascending=False).head(20)"
   ]
  },
  {
   "cell_type": "code",
   "execution_count": null,
   "metadata": {},
   "outputs": [],
   "source": [
    "dreams.explode(\"people\")[\"people\"].unique()[60:]"
   ]
  },
  {
   "cell_type": "code",
   "execution_count": null,
   "metadata": {},
   "outputs": [],
   "source": [
    "dreams.content.sample(1).iloc[0]"
   ]
  }
 ],
 "metadata": {
  "kernelspec": {
   "display_name": "udacity",
   "language": "python",
   "name": "drlnd"
  },
  "language_info": {
   "codemirror_mode": {
    "name": "ipython",
    "version": 3
   },
   "file_extension": ".py",
   "mimetype": "text/x-python",
   "name": "python",
   "nbconvert_exporter": "python",
   "pygments_lexer": "ipython3",
   "version": "3.9.7"
  },
  "orig_nbformat": 4
 },
 "nbformat": 4,
 "nbformat_minor": 2
}
